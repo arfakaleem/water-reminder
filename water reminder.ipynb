{
 "cells": [
  {
   "cell_type": "code",
   "execution_count": null,
   "id": "e31b7c79-af35-47ae-9bf9-9fa6fde29084",
   "metadata": {},
   "outputs": [],
   "source": [
    "import tkinter as tk\n",
    "import time\n",
    "\n",
    "def water_notification():\n",
    "    # Create the main window\n",
    "    root = tk.Tk()\n",
    "    root.title(\"Reminder\")\n",
    "\n",
    "    # Set window size and position\n",
    "    root.geometry(\"300x150+500+300\")  \n",
    "\n",
    "    # Label for the message\n",
    "    message = tk.Label(root, text=\"Drink water\\nWater is essential for you\", font=(\"Helvetica\", 12), wraplength=250, justify=\"center\")\n",
    "    message.pack(pady=20)\n",
    "\n",
    "    # Button to close the window\n",
    "    dismiss_button = tk.Button(root, text=\"Got it!\", command=root.destroy)\n",
    "    dismiss_button.pack(pady=10)\n",
    "\n",
    "    # Display the window\n",
    "    root.mainloop()\n",
    "\n",
    "# Schedule the notification to repeat every hour\n",
    "while True:\n",
    "    water_notification()\n",
    "    time.sleep(3600)  # Wait for 1 hour before showing the next notification\n"
   ]
  },
  {
   "cell_type": "code",
   "execution_count": null,
   "id": "743f2f7e-1929-4c20-a496-53a742329a97",
   "metadata": {},
   "outputs": [],
   "source": []
  }
 ],
 "metadata": {
  "kernelspec": {
   "display_name": "Python 3 (ipykernel)",
   "language": "python",
   "name": "python3"
  },
  "language_info": {
   "codemirror_mode": {
    "name": "ipython",
    "version": 3
   },
   "file_extension": ".py",
   "mimetype": "text/x-python",
   "name": "python",
   "nbconvert_exporter": "python",
   "pygments_lexer": "ipython3",
   "version": "3.12.4"
  }
 },
 "nbformat": 4,
 "nbformat_minor": 5
}
